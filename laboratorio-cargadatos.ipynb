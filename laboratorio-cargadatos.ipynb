{
 "cells": [
  {
   "cell_type": "markdown",
   "id": "ab2636dd",
   "metadata": {},
   "source": [
    "# Taller 4\n",
    "\n",
    "## Cargar CSV a MySQL con carga inicial e incremental"
   ]
  },
  {
   "cell_type": "code",
   "execution_count": 16,
   "id": "a80f8901",
   "metadata": {},
   "outputs": [
    {
     "name": "stdout",
     "output_type": "stream",
     "text": [
      "✅ Tabla creada exitosamente\n"
     ]
    }
   ],
   "source": [
    "import os\n",
    "import pandas as pd\n",
    "from sqlalchemy import create_engine, text\n",
    "from dotenv import load_dotenv\n",
    "\n",
    "load_dotenv()  # Cargar variables de entorno desde el archivo .env\n",
    "\n",
    "DB_HOST = os.getenv('DB_HOST')\n",
    "DB_PORT = os.getenv('DB_PORT')\n",
    "DB_NAME = os.getenv('DB_NAME')\n",
    "DB_USER = os.getenv('DB_USER')\n",
    "DB_PASS = os.getenv('DB_PASS')\n",
    "\n",
    "engine = create_engine(f'mysql+pymysql://{DB_USER}:{DB_PASS}@{DB_HOST}:{DB_PORT}/{DB_NAME}')\n",
    "\n",
    "ddl = \"\"\"\n",
    "CREATE TABLE IF NOT EXISTS ventas (\n",
    "    venta_id INT PRIMARY KEY AUTO_INCREMENT,\n",
    "    cliente varchar(100),\n",
    "    producto varchar(100),\n",
    "    categoria varchar(100),\n",
    "    precio_unitario decimal(10,2),\n",
    "    unidades int,\n",
    "    fecha DATE\n",
    ");\n",
    "\"\"\"\n",
    "\n",
    "with engine.connect() as conn:\n",
    "    conn.execute(text(ddl))\n",
    "\n",
    "print(\"✅ Tabla creada exitosamente\")\n"
   ]
  },
  {
   "cell_type": "code",
   "execution_count": 17,
   "id": "f5efcfcf",
   "metadata": {},
   "outputs": [
    {
     "name": "stdout",
     "output_type": "stream",
     "text": [
      "Datos cargados en la tabla ventas. Total registros: 20\n"
     ]
    }
   ],
   "source": [
    "#leer el archivo CSV\n",
    "df = pd.read_csv('ventas.csv')\n",
    "\n",
    "#limpieza\n",
    "df['precio_unitario'] = pd.to_numeric(df['precio_unitario'], errors='coerce')\n",
    "df['unidades'] = pd.to_numeric(df['unidades'], errors='coerce')\n",
    "df['fecha'] = pd.to_datetime(df['fecha'], errors='coerce').dt.date\n",
    "\n",
    "#carga inicial: remplazar contenido de la tabla\n",
    "with engine.begin() as conn:\n",
    "    conn.execute(text(\"TRUNCATE TABLE ventas\"))\n",
    "df.to_sql('ventas', con=engine, if_exists='append', index=False, method='multi', chunksize=1000)\n",
    "\n",
    "print(f\"Datos cargados en la tabla ventas. Total registros: {len(df)}\")"
   ]
  },
  {
   "cell_type": "code",
   "execution_count": null,
   "id": "802ea7a1",
   "metadata": {},
   "outputs": [
    {
     "name": "stdout",
     "output_type": "stream",
     "text": [
      "Datos incrementales cargados. Registros procesados: 4\n"
     ]
    }
   ],
   "source": [
    "from sqlalchemy import text\n",
    "\n",
    "df_inc = pd.read_csv('ventas_incrementales.csv')\n",
    "df_inc['precio_unitario'] = pd.to_numeric(df_inc['precio_unitario'], errors='coerce')\n",
    "df_inc['unidades'] = pd.to_numeric(df_inc['unidades'], errors='coerce')\n",
    "df_inc['fecha'] = pd.to_datetime(df_inc['fecha'], errors='coerce').dt.date\n",
    "\n",
    "# canvertimos lista de diccionarios para ejecuciones masivas\n",
    "records = df_inc.to_dict(orient='records')\n",
    "\n",
    "upsert_sql = text(\"\"\"\n",
    "INSERT INTO ventas (venta_id, cliente, producto, categoria, precio_unitario, unidades, fecha)\n",
    "VALUES (:venta_id, :cliente, :producto, :categoria, :precio_unitario, :unidades, :fecha)\n",
    "ON DUPLICATE KEY UPDATE\n",
    "    cliente = VALUES(cliente),\n",
    "    producto = VALUES(producto),\n",
    "    categoria = VALUES(categoria),\n",
    "    precio_unitario = VALUES(precio_unitario),\n",
    "    unidades = VALUES(unidades),\n",
    "    fecha = VALUES(fecha);\n",
    "\"\"\")\n",
    "batch = 1000\n",
    "with engine.begin() as conn:\n",
    "    for i in range(0, len(records), batch):\n",
    "        conn.execute(upsert_sql, records[i:i+batch])\n",
    "print(f\"Datos incrementales cargados. Registros procesados: {len(df_inc)}\")                  "
   ]
  },
  {
   "cell_type": "code",
   "execution_count": 19,
   "id": "66a970ba",
   "metadata": {},
   "outputs": [
    {
     "name": "stdout",
     "output_type": "stream",
     "text": [
      "   venta_id cliente   producto    categoria  precio_unitario  unidades  \\\n",
      "0         1     Ana     Laptop  Electrónica           2500.0         1   \n",
      "1         2    Luis   Teléfono  Electrónica           1200.0         2   \n",
      "2         3   Cesar     Tablet  Electrónica            800.0         1   \n",
      "3         4   María  Audífonos   Accesorios            150.0         3   \n",
      "4         5   Pedro    Monitor  Electrónica            650.0         1   \n",
      "\n",
      "        fecha  \n",
      "0  2023-01-01  \n",
      "1  2023-01-02  \n",
      "2  2023-01-02  \n",
      "3  2023-01-03  \n",
      "4  2023-01-15  \n",
      "    venta_id cliente producto    categoria  precio_unitario  unidades  \\\n",
      "18        19   Pedro  Monitor  Electrónica            610.0         1   \n",
      "19        20   Laura  Teclado   Accesorios            105.0         1   \n",
      "20        21    Nora   Cámara  Electrónica            350.0         1   \n",
      "21        22  Andrés  Lámpara   Accesorios             40.0         2   \n",
      "22        23     Leo  Lámpara   Accesorios             40.0         2   \n",
      "\n",
      "         fecha  \n",
      "18  2023-01-13  \n",
      "19  2023-01-14  \n",
      "20  2023-01-16  \n",
      "21  2023-01-16  \n",
      "22  2023-01-16  \n",
      "total registros 23\n",
      "top 5 productos por ventas\n",
      "    producto   total\n",
      "0     Laptop  2500.0\n",
      "1   Teléfono  2400.0\n",
      "2     Tablet  1620.0\n",
      "3    Monitor  1260.0\n",
      "4  Audífonos   605.0\n"
     ]
    }
   ],
   "source": [
    "# mostrar primeras y ultimas filas\n",
    "\n",
    "all_rows = pd.read_sql(\"SELECT * FROM ventas\", con=engine)\n",
    "print(all_rows.head(5))\n",
    "print(all_rows.tail(5))\n",
    "print(\"total registros\", len(all_rows))\n",
    "\n",
    "# top productos por ventas (precio * unidades)\n",
    "top5 = pd.read_sql(\"\"\"\n",
    "SELECT producto, SUM(precio_unitario * unidades) AS total\n",
    "FROM ventas\n",
    "GROUP BY producto\n",
    "ORDER BY total DESC\n",
    "LIMIT 5;\n",
    "\"\"\", con=engine)\n",
    "\n",
    "print(\"top 5 productos por ventas\")\n",
    "print(top5)"
   ]
  }
 ],
 "metadata": {
  "kernelspec": {
   "display_name": ".venv",
   "language": "python",
   "name": "python3"
  },
  "language_info": {
   "codemirror_mode": {
    "name": "ipython",
    "version": 3
   },
   "file_extension": ".py",
   "mimetype": "text/x-python",
   "name": "python",
   "nbconvert_exporter": "python",
   "pygments_lexer": "ipython3",
   "version": "3.13.7"
  }
 },
 "nbformat": 4,
 "nbformat_minor": 5
}
